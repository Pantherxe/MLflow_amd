{
 "cells": [
  {
   "cell_type": "code",
   "execution_count": null,
   "id": "10bfe14d",
   "metadata": {},
   "outputs": [],
   "source": [
    "import mlflow\n",
    "import mlflow.pytorch\n",
    "import torch\n",
    "import torch.nn as nn\n",
    "import torch.optim as optim\n",
    "from utils.mlflow_log import log_git, log_gpu\n",
    "\n",
    "# Config\n",
    "config = {\n",
    "    \"lr\": 1e-4,\n",
    "    \"batch_size\": 32,\n",
    "    \"epochs\": 10,\n",
    "}\n",
    "\n",
    "device = torch.device(\"cuda\" if torch.cuda.is_available() else \"cpu\")\n",
    "\n",
    "# Start MLflow experiment\n",
    "mlflow.set_experiment(\"fancyproject\")\n",
    "\n",
    "# Configure run\n",
    "with mlflow.start_run(tags={\"mlflow.user\": \"\"},log_system_metrics=True) as run:\n",
    "    # Log Git, Python and GPU info.\n",
    "    log_git()\n",
    "    log_gpu()\n",
    "\n",
    "    # Log config\n",
    "    mlflow.log_params(config)\n",
    "\n",
    "    # - You can now...\n",
    "    # - Define model\n",
    "    # - setup DataLoaders\n",
    "    # - Criterion and loss\n",
    "    \n",
    "    # Training loop\n",
    "    for epoch in range(config[\"epochs\"]):\n",
    "      ## Replace with your steps\n",
    "        mlflow.log_metrics({\"epoch_time\": epoch_time,\n",
    "                            \"train_loss\": train_loss,\n",
    "                            \"train_accuracy\": train_acc,\n",
    "                            \"val_loss\": val_loss,\n",
    "                            \"val_accuracy\": val_acc,\n",
    "                            \"trainable_params\": trainable_params,}, step=epoch)\n",
    "    # Log model\n",
    "    mlflow.pytorch.log_model(model, name=\"model\")\n",
    "    \n",
    "# Log test metrics\n",
    "mlflow.log_metrics(\n",
    "    {\"test_loss\": test_loss,\n",
    "    \"test_accuracy\": test_acc\n",
    "    })"
   ]
  }
 ],
 "metadata": {
  "kernelspec": {
   "display_name": "Python 3 (ipykernel)",
   "language": "python",
   "name": "python3"
  },
  "language_info": {
   "codemirror_mode": {
    "name": "ipython",
    "version": 3
   },
   "file_extension": ".py",
   "mimetype": "text/x-python",
   "name": "python",
   "nbconvert_exporter": "python",
   "pygments_lexer": "ipython3",
   "version": "3.10.14"
  }
 },
 "nbformat": 4,
 "nbformat_minor": 5
}
