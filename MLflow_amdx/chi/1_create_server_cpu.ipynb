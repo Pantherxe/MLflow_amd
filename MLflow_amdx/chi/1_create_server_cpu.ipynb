{
 "cells": [
  {
   "cell_type": "markdown",
   "metadata": {},
   "source": [
    "## Launch and set up a bare metal server - with python-chi\n",
    "\n",
    "At the beginning of the lease time, we will bring up our server. We will use the `python-chi` Python API to Chameleon to provision our server.\n",
    "\n",
    "\n",
    "Run the following cells, and make sure the correct site and project are selected:\n",
    "\n",
    "###  Prerequisites\n",
    "- This notebook assumes that You must be logged into Chameleon JupyterHub and you run the following cells there.\n",
    "- You have already reserved a lease on Chameleon Cloud "
   ]
  },
  {
   "cell_type": "code",
   "execution_count": null,
   "metadata": {},
   "outputs": [],
   "source": [
    "from chi import server, context, lease\n",
    "import os\n",
    "\n",
    "context.version = \"1.0\" \n",
    "context.choose_project()\n",
    "context.choose_site(default=\"CHI@TACC\")"
   ]
  },
  {
   "cell_type": "markdown",
   "metadata": {},
   "source": [
    "## Select Active Lease\n",
    "\n",
    "\n",
    "In the previous steps (when setting up your project template)\n",
    "we hightlights that you to name your lease starting with your project name (e.g., fancyproject-gpu-test).\n",
    "This naming, because the code below searches for your active lease by:\n",
    "\n",
    "- listing all leases starting with fancyproject and \"ACTIVE\"\n",
    "\n",
    "after looking into into leases provide the lease name you want to select in the parameter `lease_name`"
   ]
  },
  {
   "cell_type": "code",
   "execution_count": null,
   "metadata": {},
   "outputs": [],
   "source": [
    "project_name = \"fancyproject\"\n",
    "lease_name = None # replace with the lease name you want to select\n",
    "def get_active_lease(lease_name=None, project_name=None):\n",
    "\n",
    "    leases = lease.list_leases()\n",
    "\n",
    "    # retrieve exact lease name provided\n",
    "    if lease_name:\n",
    "        match = next((l for l in leases if l.name == lease_name), None)\n",
    "        if not match:\n",
    "            raise ValueError(f\"no lease found with name '{lease_name}'\")\n",
    "        return match\n",
    "\n",
    "    matching = [\n",
    "        l for l in leases\n",
    "        if l.name.startswith(project_name) and l.status.upper() == \"ACTIVE\"\n",
    "    ]\n",
    "\n",
    "    if not matching:\n",
    "        raise ValueError(f\"no active lease found starting with '{project_name}'\")\n",
    "\n",
    "    if len(matching) > 1:\n",
    "        print(\"you have multiple active leases:\")\n",
    "        for l in matching:\n",
    "            print(f\" - {l.name} (status: {l.status})\")\n",
    "        raise ValueError(\"set 'lease_name' to pick the correct lease.\")\n",
    "\n",
    "    return matching[0]"
   ]
  },
  {
   "cell_type": "code",
   "execution_count": null,
   "metadata": {},
   "outputs": [],
   "source": [
    "l = get_active_lease(lease_name, project_name)\n",
    "print(f\"using lease: {l.name}\")\n",
    "l.show()"
   ]
  },
  {
   "cell_type": "markdown",
   "metadata": {},
   "source": [
    "The status should show as “ACTIVE” now that we are past the lease start time.\n",
    "\n",
    "The rest of this notebook can be executed without any interactions from you, so at this point, you can save time by clicking on this cell, then selecting “Run” \\> “Run Selected Cell and All Below” from the Jupyter menu.\n",
    "\n",
    "As the notebook executes, monitor its progress to make sure it does not get stuck on any execution error, and also to see what it is doing!"
   ]
  },
  {
   "cell_type": "markdown",
   "metadata": {},
   "source": [
    "We will use the lease to bring up a server with the `CC-Ubuntu24.04` disk image.\n",
    "\n",
    "> **Note**: the following cell brings up a server only if you don’t already have one with the same name! (Regardless of its error state.) If you have a server in ERROR state already, delete it first in the Horizon GUI before you run this cell."
   ]
  },
  {
   "cell_type": "code",
   "execution_count": null,
   "metadata": {},
   "outputs": [],
   "source": [
    "username = os.getenv('USER') # all exp resources will have this prefix\n",
    "s = server.Server(\n",
    "    f\"node-fancyproject-{username}\", \n",
    "    reservation_id=l.node_reservations[0][\"id\"],\n",
    "    image_name=\"CC-Ubuntu24.04\"\n",
    ")\n",
    "s.submit(idempotent=True)"
   ]
  },
  {
   "cell_type": "markdown",
   "metadata": {},
   "source": [
    "Note: security groups are not used at Chameleon bare metal sites, so we do not have to configure any security groups on this instance."
   ]
  },
  {
   "cell_type": "markdown",
   "metadata": {},
   "source": [
    "Then, we’ll associate a floating IP with the instance, so that we can access it over SSH."
   ]
  },
  {
   "cell_type": "code",
   "execution_count": null,
   "metadata": {},
   "outputs": [],
   "source": [
    "s.associate_floating_ip()"
   ]
  },
  {
   "cell_type": "code",
   "execution_count": null,
   "metadata": {},
   "outputs": [],
   "source": [
    "s.refresh()\n",
    "s.check_connectivity()"
   ]
  },
  {
   "cell_type": "markdown",
   "metadata": {},
   "source": [
    "In the output below, make a note of the floating IP that has been assigned to your instance (in the “Addresses” row)."
   ]
  },
  {
   "cell_type": "code",
   "execution_count": null,
   "metadata": {},
   "outputs": [],
   "source": [
    "s.refresh()\n",
    "s.show(type=\"widget\")"
   ]
  },
  {
   "cell_type": "markdown",
   "metadata": {},
   "source": [
    "## Retrieve code and notebooks on the instance\n",
    "\n",
    "Now, we can use `python-chi` to execute commands on the instance, to set it up. We’ll start by retrieving the code and other materials on the instance."
   ]
  },
  {
   "cell_type": "code",
   "execution_count": null,
   "metadata": {},
   "outputs": [],
   "source": [
    "repo = \"https://github.com/Pantherxe/MLflow_amd.git\" \n",
    "s.execute(f\"git clone {repo}  fancyproject \")"
   ]
  },
  {
   "cell_type": "markdown",
   "metadata": {},
   "source": [
    "## Set up Docker\n",
    "\n",
    "To use common deep learning frameworks like Tensorflow or PyTorch, and ML training platforms like MLFlow and Ray, we can run containers that have all the prerequisite libraries necessary for these frameworks. Here, we will set up the container framework."
   ]
  },
  {
   "cell_type": "code",
   "execution_count": null,
   "metadata": {},
   "outputs": [],
   "source": [
    "s.execute(\"curl -sSL https://get.docker.com/ | sudo sh\")\n",
    "s.execute(\"sudo groupadd -f docker; sudo usermod -aG docker $USER\")"
   ]
  },
  {
   "cell_type": "markdown",
   "metadata": {},
   "source": [
    "## Mounting S3_buckets to filesystem\n",
    "\n",
    "We also need to modify the configuration file for FUSE (Filesystem in USErspace), which is the Linux interface that allows user‑space applications (instead of the kernel) to mount and manage virtual filesystems. "
   ]
  },
  {
   "cell_type": "code",
   "execution_count": null,
   "metadata": {},
   "outputs": [],
   "source": [
    "# this line makes sure user_allow_other is un-commented in /etc/fuse.conf\n",
    "s.execute(\"sudo sed -i '/^#user_allow_other/s/^#//' /etc/fuse.conf\") "
   ]
  },
  {
   "cell_type": "markdown",
   "metadata": {},
   "source": [
    "Enabling the `user_allow_other` option ensures that filesystems mounted by our user (such as an object store mounted with rclone) are accessible to other users and processes, including Docker containers running Jupyter notebooks"
   ]
  },
  {
   "cell_type": "code",
   "execution_count": null,
   "metadata": {},
   "outputs": [],
   "source": [
    "# Mounting the buckets using rclone \n",
    "\n",
    "project_name= 'fancyproject'\n",
    "buckets = {\n",
    "    f'{project_name}-data': 'data',\n",
    "    f'{project_name}-mlflow-metrics': 'metrics'\n",
    "}\n",
    "\n",
    "for bucket_name, mount_dir in buckets.items():\n",
    "    \n",
    "    s.execute(f\"sudo mkdir -p /mnt/{mount_dir}\")\n",
    "    s.execute(f\"sudo chown -R cc /mnt/{mount_dir}\")\n",
    "    s.execute(f\"sudo chgrp -R cc /mnt/{mount_dir}\")\n",
    "    s.execute(f\"rclone mount rclone_s3:{bucket_name} /mnt/{mount_dir} --allow-other --daemon\")"
   ]
  },
  {
   "cell_type": "code",
   "execution_count": null,
   "metadata": {},
   "outputs": [],
   "source": [
    "s.execute(\"ls -l /mnt/\") # we should be able to see the mounted buckets"
   ]
  },
  {
   "cell_type": "markdown",
   "metadata": {},
   "source": [
    "Leave that cell running, and in the meantime, open an SSH sesson on your server. From your local terminal, run\n",
    "\n",
    "    ssh -i ~/.ssh/id_rsa_chameleon cc@A.B.C.D\n",
    "\n",
    "where\n",
    "\n",
    "-   in place of `~/.ssh/id_rsa_chameleon`, substitute the path to your own key that you had uploaded to CHI@TACC\n",
    "-   in place of `A.B.C.D`, use the floating IP address you just associated to your instance."
   ]
  }
 ],
 "metadata": {
  "kernelspec": {
   "display_name": "Python 3 (ipykernel)",
   "language": "python",
   "name": "python3"
  },
  "language_info": {
   "codemirror_mode": {
    "name": "ipython",
    "version": "3"
   },
   "file_extension": ".py",
   "mimetype": "text/x-python",
   "name": "python"
  }
 },
 "nbformat": 4,
 "nbformat_minor": 4
}
